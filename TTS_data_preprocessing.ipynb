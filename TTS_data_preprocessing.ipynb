{
  "nbformat": 4,
  "nbformat_minor": 0,
  "metadata": {
    "colab": {
      "provenance": [],
      "include_colab_link": true
    },
    "kernelspec": {
      "name": "python3",
      "display_name": "Python 3"
    },
    "accelerator": "GPU"
  },
  "cells": [
    {
      "cell_type": "markdown",
      "metadata": {
        "id": "view-in-github",
        "colab_type": "text"
      },
      "source": [
        "<a href=\"https://colab.research.google.com/github/OpeyemiOsakuade/Project-repos/blob/main/TTS_data_preprocessing.ipynb\" target=\"_parent\"><img src=\"https://colab.research.google.com/assets/colab-badge.svg\" alt=\"Open In Colab\"/></a>"
      ]
    },
    {
      "cell_type": "markdown",
      "metadata": {
        "id": "QjindPTItq75"
      },
      "source": [
        "### Install dependencies"
      ]
    },
    {
      "cell_type": "code",
      "metadata": {
        "id": "uczRSCdHHid6"
      },
      "source": [
        "# from google.colab import drive\n",
        "# drive.mount('/content/drive')"
      ],
      "execution_count": null,
      "outputs": []
    },
    {
      "cell_type": "code",
      "metadata": {
        "colab": {
          "base_uri": "https://localhost:8080/"
        },
        "id": "cvDdrELlHp9D",
        "outputId": "7dd077c1-7392-44f2-b0f5-762b765e104a"
      },
      "source": [
        "cd /content/drive/MyDrive/deepvoice"
      ],
      "execution_count": null,
      "outputs": [
        {
          "output_type": "stream",
          "name": "stdout",
          "text": [
            "/content/drive/MyDrive/deepvoice\n"
          ]
        }
      ]
    },
    {
      "cell_type": "code",
      "metadata": {
        "id": "kemMMs6pg9Rv"
      },
      "source": [
        "import os\n",
        "from os.path import exists, join, expanduser\n",
        " \n",
        "# Clone\n",
        "# name = \"deepvoice3_pytorch\"\n",
        "# if not exists(name):\n",
        "#   ! git clone https://github.com/r9y9/$name"
      ],
      "execution_count": null,
      "outputs": []
    },
    {
      "cell_type": "code",
      "metadata": {
        "colab": {
          "base_uri": "https://localhost:8080/"
        },
        "id": "x5OCb4HXJBIM",
        "outputId": "79897ce0-33eb-42fb-e3fc-61aaf94add60"
      },
      "source": [
        "cd /content/drive/MyDrive/deepvoice/deepvoice3_pytorch"
      ],
      "execution_count": null,
      "outputs": [
        {
          "output_type": "stream",
          "name": "stdout",
          "text": [
            "/content/drive/MyDrive/deepvoice/deepvoice3_pytorch\n"
          ]
        }
      ]
    },
    {
      "cell_type": "code",
      "metadata": {
        "id": "uR3GU5E4shQ5"
      },
      "source": [
        "#!pip install lws"
      ],
      "execution_count": null,
      "outputs": []
    },
    {
      "cell_type": "code",
      "metadata": {
        "id": "ntBxf7b6DCqT"
      },
      "source": [
        "# Change working directory to the project dir \n",
        "#os.chdir(join(expanduser(\"~\"), name))\n",
        " \n",
        "#!git checkout 7a10ac6763eda92595e257543494b6a95f64229b --quiet\n",
        " \n",
        "# Install dependencices\n",
        "#!pip install -q -e '.[bin]'"
      ],
      "execution_count": null,
      "outputs": []
    },
    {
      "cell_type": "code",
      "metadata": {
        "id": "X6VFmDe-ideo",
        "colab": {
          "base_uri": "https://localhost:8080/"
        },
        "outputId": "79fe9edc-169a-4808-b8e4-b55acd74ebe7"
      },
      "source": [
        "%pylab inline\n",
        "! pip install -q librosa nltk\n",
        " \n",
        "import torch\n",
        "import numpy as np\n",
        "import librosa\n",
        "import librosa.display\n",
        "import IPython\n",
        "from IPython.display import Audio\n",
        "# need this for English text processing frontend\n",
        "#import nltk\n",
        "#! python -m nltk.downloader cmudict"
      ],
      "execution_count": null,
      "outputs": [
        {
          "output_type": "stream",
          "name": "stdout",
          "text": [
            "Populating the interactive namespace from numpy and matplotlib\n"
          ]
        }
      ]
    },
    {
      "cell_type": "markdown",
      "metadata": {
        "id": "_l1Gd2SStt0E"
      },
      "source": [
        "### Download a pre-trained model"
      ]
    },
    {
      "cell_type": "code",
      "metadata": {
        "id": "42Zwjr4UjNn_"
      },
      "source": [
        "preset = \"20180505_deepvoice3_ljspeech.json\"\n",
        "#checkpoint_path = \"20180505_deepvoice3_checkpoint_step000640000.pth\""
      ],
      "execution_count": null,
      "outputs": []
    },
    {
      "cell_type": "code",
      "metadata": {
        "id": "45Wrp8INj6Xu"
      },
      "source": [
        "# if not exists(preset):\n",
        "#   !curl -O -L \"https://www.dropbox.com/s/0ck82unm0bo0rxd/20180505_deepvoice3_ljspeech.json\"\n",
        "# if not exists(checkpoint_path):\n",
        "#   !curl -O -L \"https://www.dropbox.com/s/5ucl9remrwy5oeg/20180505_deepvoice3_checkpoint_step000640000.pth\""
      ],
      "execution_count": null,
      "outputs": []
    },
    {
      "cell_type": "code",
      "metadata": {
        "id": "0pJN-z5Kob8c"
      },
      "source": [
        "#checkpoint_path = \"./checkpoint/checkpoint_step000770000.pth\""
      ],
      "execution_count": null,
      "outputs": []
    },
    {
      "cell_type": "code",
      "metadata": {
        "colab": {
          "base_uri": "https://localhost:8080/",
          "height": 35
        },
        "id": "QOB-LoRSpxx9",
        "outputId": "39a3cf96-fa67-47a2-eecf-aef7527043bc"
      },
      "source": [
        "%pwd"
      ],
      "execution_count": null,
      "outputs": [
        {
          "output_type": "execute_result",
          "data": {
            "application/vnd.google.colaboratory.intrinsic+json": {
              "type": "string"
            },
            "text/plain": [
              "'/content/drive/MyDrive/deepvoice/deepvoice3_pytorch'"
            ]
          },
          "metadata": {
            "tags": []
          },
          "execution_count": 10
        }
      ]
    },
    {
      "cell_type": "code",
      "metadata": {
        "id": "kb2lIlcO3nQq",
        "colab": {
          "base_uri": "https://localhost:8080/"
        },
        "outputId": "40f54d93-12d5-4108-b0e7-f257a2457939"
      },
      "source": [
        "import nltk\n",
        "nltk.download('cmudict')"
      ],
      "execution_count": null,
      "outputs": [
        {
          "output_type": "stream",
          "text": [
            "[nltk_data] Downloading package cmudict to /root/nltk_data...\n",
            "[nltk_data]   Package cmudict is already up-to-date!\n"
          ],
          "name": "stdout"
        },
        {
          "output_type": "execute_result",
          "data": {
            "text/plain": [
              "True"
            ]
          },
          "metadata": {},
          "execution_count": 15
        }
      ]
    },
    {
      "cell_type": "code",
      "metadata": {
        "id": "Vbhikb-vvNMm"
      },
      "source": [
        "import soundfile as sf\n",
        "import librosa\n",
        "import os"
      ],
      "execution_count": null,
      "outputs": []
    },
    {
      "cell_type": "code",
      "metadata": {
        "id": "xUePq0bd7Z15",
        "colab": {
          "base_uri": "https://localhost:8080/"
        },
        "outputId": "26e8367f-4d55-406f-9d83-397449cf08ba"
      },
      "source": [
        "# checking the sample rate (sr) of any random audio file in the folder.\n",
        "y, sr = librosa.load(\"/content/drive/MyDrive/LJSpeech-1.1/wavs/01J3M0301.wav\", sr=None)\n",
        "sr"
      ],
      "execution_count": null,
      "outputs": [
        {
          "output_type": "execute_result",
          "data": {
            "text/plain": [
              "16000"
            ]
          },
          "metadata": {},
          "execution_count": 10
        }
      ]
    },
    {
      "cell_type": "code",
      "metadata": {
        "id": "Y1kbu7Ik7taP"
      },
      "source": [
        "# Changing the sample rate of files in a folder, run this and the code cells below\n",
        "sampledAudioPath = \"/content/drive/MyDrive/Audio_Call Center Analytics/ASR for Learn at Home/speech-to-text using NVIDIA NeMo/downsampled\"\n",
        "upsampledAudioPath = \"/content/drive/MyDrive/Audio_Call Center Analytics/LJSpeech-1.1/wav\""
      ],
      "execution_count": null,
      "outputs": []
    },
    {
      "cell_type": "code",
      "metadata": {
        "id": "nphW4MxS9SOx"
      },
      "source": [
        "allAudio = os.listdir(sampledAudioPath)"
      ],
      "execution_count": null,
      "outputs": []
    },
    {
      "cell_type": "code",
      "metadata": {
        "id": "b2jNIosGHl3i"
      },
      "source": [
        "len(os.listdir(sampledAudioPath))"
      ],
      "execution_count": null,
      "outputs": []
    },
    {
      "cell_type": "code",
      "metadata": {
        "id": "_7syeq589Uah"
      },
      "source": [
        "len(os.listdir(upsampledAudioPath))"
      ],
      "execution_count": null,
      "outputs": []
    },
    {
      "cell_type": "code",
      "metadata": {
        "id": "oY-fjF2dYUxm"
      },
      "source": [
        "for i, wav in enumerate(allAudio):\n",
        "    if \".wav\" in wav.lower():\n",
        "        y, sr = librosa.load(sampledAudioPath+'/'+wav, sr=22050)\n",
        "        sf.write(upsampledAudioPath+'/'+wav, y, sr)\n",
        "    else:\n",
        "        pass"
      ],
      "execution_count": null,
      "outputs": []
    },
    {
      "cell_type": "markdown",
      "metadata": {
        "id": "eTtQeKC1pPyx"
      },
      "source": [
        "# text preprocessing"
      ]
    },
    {
      "cell_type": "code",
      "metadata": {
        "colab": {
          "base_uri": "https://localhost:8080/",
          "height": 230
        },
        "id": "eOZVUhg5paAC",
        "outputId": "1350acb8-fa1e-4d11-ce52-3b88a0366a02"
      },
      "source": [
        "transcript = []\n",
        "with open(\"/content/drive/MyDrive/ASR for Learn at Home/Text-to-speech/Copy of NEW_TRAIN_TRANSCRIPT.txt\") as f:\n",
        "  for line in f.readlines():\n",
        "    transcript.append(line.split(\"(\")[0])\n",
        "print(len(transcript))\n",
        "print(transcript)"
      ],
      "execution_count": null,
      "outputs": [
        {
          "output_type": "error",
          "ename": "FileNotFoundError",
          "evalue": "ignored",
          "traceback": [
            "\u001b[0;31m---------------------------------------------------------------------------\u001b[0m",
            "\u001b[0;31mFileNotFoundError\u001b[0m                         Traceback (most recent call last)",
            "\u001b[0;32m<ipython-input-3-603ee9614088>\u001b[0m in \u001b[0;36m<module>\u001b[0;34m()\u001b[0m\n\u001b[1;32m      1\u001b[0m \u001b[0mtranscript\u001b[0m \u001b[0;34m=\u001b[0m \u001b[0;34m[\u001b[0m\u001b[0;34m]\u001b[0m\u001b[0;34m\u001b[0m\u001b[0;34m\u001b[0m\u001b[0m\n\u001b[0;32m----> 2\u001b[0;31m \u001b[0;32mwith\u001b[0m \u001b[0mopen\u001b[0m\u001b[0;34m(\u001b[0m\u001b[0;34m\"/content/drive/MyDrive/ASR for Learn at Home/Text-to-speech/Copy of NEW_TRAIN_TRANSCRIPT.txt\"\u001b[0m\u001b[0;34m)\u001b[0m \u001b[0;32mas\u001b[0m \u001b[0mf\u001b[0m\u001b[0;34m:\u001b[0m\u001b[0;34m\u001b[0m\u001b[0;34m\u001b[0m\u001b[0m\n\u001b[0m\u001b[1;32m      3\u001b[0m   \u001b[0;32mfor\u001b[0m \u001b[0mline\u001b[0m \u001b[0;32min\u001b[0m \u001b[0mf\u001b[0m\u001b[0;34m.\u001b[0m\u001b[0mreadlines\u001b[0m\u001b[0;34m(\u001b[0m\u001b[0;34m)\u001b[0m\u001b[0;34m:\u001b[0m\u001b[0;34m\u001b[0m\u001b[0;34m\u001b[0m\u001b[0m\n\u001b[1;32m      4\u001b[0m     \u001b[0mtranscript\u001b[0m\u001b[0;34m.\u001b[0m\u001b[0mappend\u001b[0m\u001b[0;34m(\u001b[0m\u001b[0mline\u001b[0m\u001b[0;34m.\u001b[0m\u001b[0msplit\u001b[0m\u001b[0;34m(\u001b[0m\u001b[0;34m\"(\"\u001b[0m\u001b[0;34m)\u001b[0m\u001b[0;34m[\u001b[0m\u001b[0;36m0\u001b[0m\u001b[0;34m]\u001b[0m\u001b[0;34m)\u001b[0m\u001b[0;34m\u001b[0m\u001b[0;34m\u001b[0m\u001b[0m\n\u001b[1;32m      5\u001b[0m \u001b[0mprint\u001b[0m\u001b[0;34m(\u001b[0m\u001b[0mlen\u001b[0m\u001b[0;34m(\u001b[0m\u001b[0mtranscript\u001b[0m\u001b[0;34m)\u001b[0m\u001b[0;34m)\u001b[0m\u001b[0;34m\u001b[0m\u001b[0;34m\u001b[0m\u001b[0m\n",
            "\u001b[0;31mFileNotFoundError\u001b[0m: [Errno 2] No such file or directory: '/content/drive/MyDrive/ASR for Learn at Home/Text-to-speech/Copy of NEW_TRAIN_TRANSCRIPT.txt'"
          ]
        }
      ]
    },
    {
      "cell_type": "code",
      "metadata": {
        "id": "owdBGxq8po9I"
      },
      "source": [
        "audio_name = []\n",
        "with open(\"/content/drive/MyDrive/ASR for Learn at Home/Text-to-speech/Copy of NEW_TRAIN_TRANSCRIPT.txt\") as f:\n",
        "  for line in f.readlines():\n",
        "    audio_name.append(line.split(\"(\")[1].split(\")\")[0])\n",
        "print(audio_name)"
      ],
      "execution_count": null,
      "outputs": []
    },
    {
      "cell_type": "code",
      "metadata": {
        "id": "BGqQjORDqQB3"
      },
      "source": [
        "transcript_lower = []\n",
        "with open(\"/content/drive/MyDrive/ASR for Learn at Home/Text-to-speech/Copy of NEW_TRAIN_TRANSCRIPT.txt\") as f:\n",
        "  for line in f.readlines():\n",
        "    transcript_lower.append(line.lower().split(\"(\")[0])\n",
        "print(len(transcript_lower))\n",
        "print(transcript_lower)"
      ],
      "execution_count": null,
      "outputs": []
    },
    {
      "cell_type": "code",
      "metadata": {
        "id": "DM2tT6xPz75v"
      },
      "source": [
        "import pandas as pd \n",
        "data = pd.DataFrame(list(zip(audio_name,transcript,transcript_lower)))\n",
        "data.head()"
      ],
      "execution_count": null,
      "outputs": []
    },
    {
      "cell_type": "code",
      "metadata": {
        "id": "ncK9UN6qsvuh"
      },
      "source": [
        "data.to_csv(\"transcript_file.csv\", sep ='|',header=False, index=False)"
      ],
      "execution_count": null,
      "outputs": []
    }
  ]
}